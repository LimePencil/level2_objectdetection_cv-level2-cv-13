{
 "cells": [
  {
   "cell_type": "markdown",
   "metadata": {},
   "source": [
    "### 2023년 1월 1일 MMCV가 v2.0.0 출시하면서 학습 과정과 관련된 요소들을 제거하고 data 변형과 관련된 모듈을 추가할 예정 게다가 패키지 이름을 변경할 예정 mmcv-> mmcv-lite, mmcv-full -> mmcv\n",
    "[Compability Document](https://github.com/open-mmlab/mmcv/blob/master/docs/en/compatibility.md)"
   ]
  },
  {
   "cell_type": "code",
   "execution_count": null,
   "metadata": {},
   "outputs": [],
   "source": [
    "# 모듈 import\n",
    "\n",
    "from mmcv import Config\n",
    "from mmdet.datasets import build_dataset\n",
    "from mmdet.models import build_detector\n",
    "from mmdet.apis import train_detector\n",
    "from mmdet.datasets import (build_dataloader, build_dataset,\n",
    "                            replace_ImageToTensor)\n",
    "from mmdet.utils import get_device"
   ]
  },
  {
   "cell_type": "markdown",
   "metadata": {},
   "source": [
    "### faster_rcnn_r50_fpn_1x_coco.py\n",
    "- 구성  \n",
    " **base**  \n",
    "  - ../_base_/models/faster_rcnn_r50_fpn.py  => model  \n",
    "  - ../_base_/datasets/coco_detection.py  => datasets\n",
    "  - ../_base_/schedules/schedule_1x.py    => schedules\n",
    "  - ../_base_/default_runtime.py => \n",
    "  \n",
    "#### pipeline 구성\n",
    "```python\n",
    "XXXX_pipeline = [  \n",
    "    dict = (type , ),  \n",
    "    dict = (type , ),  \n",
    "]\n",
    "```\n",
    "위와 같은 구조를 가지고 있기 때문에 indexing 가능\n",
    "\n",
    "\n",
    "#### build_XXX 위치\n",
    "[github builder.py](https://github.com/open-mmlab/mmdetection/blob/e71b499608e9c3ccd4211e7c815fa20eeedf18a2/mmdet/models/builder.py#L48)\n",
    "\n",
    "\n",
    "#### 코드 이해하기 위한 설명\n",
    "- isinstance(object, type) -> 해당 오브젝트가 명시된 타입과 맞는 지 체크\n",
    "- "
   ]
  },
  {
   "cell_type": "code",
   "execution_count": null,
   "metadata": {},
   "outputs": [],
   "source": [
    "classes = (\"General trash\", \"Paper\", \"Paper pack\", \"Metal\", \"Glass\", \n",
    "           \"Plastic\", \"Styrofoam\", \"Plastic bag\", \"Battery\", \"Clothing\")\n",
    "\n",
    "# config file 들고오기\n",
    "cfg = Config.fromfile('./configs/faster_rcnn/faster_rcnn_r50_fpn_1x_coco.py')\n",
    "\n",
    "root='../../dataset/'\n",
    "\n",
    "# dataset config 수정\n",
    "cfg.data.train.classes = classes\n",
    "cfg.data.train.img_prefix = root\n",
    "cfg.data.train.ann_file = root + '/fold_dataset/train_fold_1_of_5.json' # train json 정보\n",
    "cfg.data.train.pipeline[2]['img_scale'] = (512,512) # Resize\n",
    "\n",
    "cfg.data.val.classes = classes\n",
    "cfg.data.val.img_prefix = root\n",
    "cfg.data.val.ann_file = root + '/fold_dataset/validation_fold_1_of_5.json' # train json 정보\n",
    "cfg.data.val.pipeline[1]['img_scale'] = (512,512) # Resize\n",
    "\n",
    "\n",
    "cfg.data.test.classes = classes\n",
    "cfg.data.test.img_prefix = root\n",
    "cfg.data.test.ann_file = root + 'test.json' # test json 정보\n",
    "cfg.data.test.pipeline[1]['img_scale'] = (512,512) # Resize\n",
    "\n",
    "cfg.data.samples_per_gpu = 4\n",
    "\n",
    "cfg.seed = 2022\n",
    "cfg.gpu_ids = [0]\n",
    "cfg.work_dir = './work_dirs/faster_rcnn_r50_fpn_1x_trash'\n",
    "\n",
    "cfg.model.roi_head.bbox_head.num_classes = 10\n",
    "\n",
    "cfg.optimizer_config.grad_clip = dict(max_norm=35, norm_type=2) #schduler에 존재\n",
    "cfg.checkpoint_config = dict(max_keep_ckpts=3, interval=1)\n",
    "cfg.device = get_device()"
   ]
  },
  {
   "cell_type": "code",
   "execution_count": null,
   "metadata": {},
   "outputs": [],
   "source": [
    "# build_dataset\n",
    "datasets = [build_dataset(cfg.data.train), build_dataset(cfg.data.val)]"
   ]
  },
  {
   "cell_type": "code",
   "execution_count": null,
   "metadata": {},
   "outputs": [],
   "source": [
    "# train dataset 확인\n",
    "datasets[0]"
   ]
  },
  {
   "cell_type": "code",
   "execution_count": null,
   "metadata": {},
   "outputs": [],
   "source": [
    "# valid dataset 확인\n",
    "datasets[1]"
   ]
  },
  {
   "cell_type": "code",
   "execution_count": null,
   "metadata": {},
   "outputs": [],
   "source": [
    "# 모델 build 및 pretrained network 불러오기\n",
    "model = build_detector(cfg.model)\n",
    "model.init_weights()"
   ]
  },
  {
   "cell_type": "markdown",
   "metadata": {},
   "source": [
    "### 평가 Metric 관련\n",
    "- bbox_mAP\n",
    "- bbox_mAP_50 : iou = 0.5 기준\n",
    "- bbox_mAP_75 : iou = 0.75 기준\n",
    "- bbox_mAP_s : small objcet\n",
    "- bbox_mAP_m : medium object\n",
    "- bbox_mAP_l : large obeject"
   ]
  },
  {
   "cell_type": "code",
   "execution_count": null,
   "metadata": {},
   "outputs": [],
   "source": [
    "# 모델 학습\n",
    "#distributed -> 분산 학습을 위한 파라미터 True로 할경우 key_error 'LOCAL RANK' 발생(local rank가 없어서 발생하는 문제로 보임)\n",
    "train_detector(model, datasets, cfg, distributed=False, validate=True)"
   ]
  },
  {
   "cell_type": "code",
   "execution_count": null,
   "metadata": {},
   "outputs": [],
   "source": []
  }
 ],
 "metadata": {
  "interpreter": {
   "hash": "980dec4bdc0f65d3f181e5891661df87e8769cde5e79cd54bc145a7f830b2685"
  },
  "kernelspec": {
   "display_name": "detection",
   "language": "python",
   "name": "detection"
  },
  "language_info": {
   "codemirror_mode": {
    "name": "ipython",
    "version": 3
   },
   "file_extension": ".py",
   "mimetype": "text/x-python",
   "name": "python",
   "nbconvert_exporter": "python",
   "pygments_lexer": "ipython3",
   "version": "3.7.15"
  }
 },
 "nbformat": 4,
 "nbformat_minor": 4
}
