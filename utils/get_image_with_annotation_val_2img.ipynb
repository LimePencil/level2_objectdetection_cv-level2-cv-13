{
 "cells": [
  {
   "cell_type": "code",
   "execution_count": null,
   "metadata": {},
   "outputs": [],
   "source": [
    "import cv2\n",
    "from pycocotools.coco import COCO\n",
    "import matplotlib.pyplot as plt\n",
    "import matplotlib.image as mpimg\n",
    "import os\n",
    "import matplotlib.patches as patches\n",
    "import ipywidgets as widgets\n",
    "from IPython.display import display"
   ]
  },
  {
   "cell_type": "code",
   "execution_count": null,
   "metadata": {},
   "outputs": [],
   "source": [
    "data_dir = '../../dataset'\n",
    "\n",
    "classes = [\"General trash\", \"Paper\", \"Paper pack\", \"Metal\", \"Glass\", \n",
    "           \"Plastic\", \"Styrofoam\", \"Plastic bag\", \"Battery\", \"Clothing\"]\n",
    "class_color=[\"#f38181\",\"#f08a5d\",\"#f9ed69\",\"#a3de83\",\"#2eb872\",\"#70a1d7\",\"#a29146\",\"#0096ff\",\"#e35ddc\",\"#9738c9\"]"
   ]
  },
  {
   "cell_type": "code",
   "execution_count": null,
   "metadata": {},
   "outputs": [],
   "source": [
    "# choose the image ID here!\n",
    "annotation='/opt/ml/level2_objectdetection_cv-level2-cv-13/pseudo_labeling/test_ensemble_0.3.json'\n",
    "coco_val_pseudo=COCO(annotation)\n",
    "annotation='/opt/ml/level2_objectdetection_cv-level2-cv-13/pseudo_labeling/test_cascade.json'\n",
    "coco=COCO(annotation)\n",
    "def get_img_with_annot(id):\n",
    "\n",
    "    while True:\n",
    "        try:\n",
    "            coco_val_pseudo.loadImgs(id)\n",
    "            break\n",
    "        except:\n",
    "            id+=1\n",
    "    # annotation= '../../dataset/test.json'\n",
    "    img_info=coco_val_pseudo.loadImgs(id)[0]\n",
    "    path=os.path.join(data_dir, img_info['file_name'])\n",
    "    img=mpimg.imread(path).copy()\n",
    "    plt.figure(figsize=(20,40))\n",
    "    ax=plt.subplot(1, 2, 1)   \n",
    "    plt.imshow(img)\n",
    "    plt.tick_params(left = False, right = False , labelleft = False, labelbottom = False, bottom = False)\n",
    "    plt.title(f\"Dyhead Image and Annotation of ID: {id}\")\n",
    "    plt.text(0,1045,f\"Number of Objects: {len(coco_val_pseudo.getAnnIds(id))}\")\n",
    "    for a in coco_val_pseudo.getAnnIds(id):\n",
    "        x,y,w,h=coco_val_pseudo.anns[a]['bbox']\n",
    "        v=int(coco_val_pseudo.anns[a]['category_id'])\n",
    "        rect=patches.Rectangle((x,y),w,h,linewidth=1,edgecolor=class_color[v],facecolor='none')\n",
    "        ax.text(x,y,classes[v],bbox=dict(facecolor=class_color[v], pad=0.2,lw=0))\n",
    "        ax.add_patch(rect)\n",
    "\n",
    "\n",
    "    ax=plt.subplot(1, 2, 2)   \n",
    "    plt.imshow(img)\n",
    "    plt.tick_params(left = False, right = False , labelleft = False ,\n",
    "                labelbottom = False, bottom = False)\n",
    "    plt.title(f\"Cascade Image and Annotation of ID: {id}\")\n",
    "    plt.text(0,1045,f\"Number of Objects: {len(coco.getAnnIds(id))}\")\n",
    "    for a in coco.getAnnIds(id):\n",
    "        x,y,w,h=coco.anns[a]['bbox']\n",
    "        rect=patches.Rectangle((x,y),w,h,linewidth=1,edgecolor=class_color[coco.anns[a]['category_id']],facecolor='none')\n",
    "        ax.text(x,y,classes[coco.anns[a]['category_id']],bbox=dict(facecolor=class_color[coco.anns[a]['category_id']], pad=0.2,lw=0))\n",
    "        ax.add_patch(rect)\n",
    "    plt.show()"
   ]
  }
 ],
 "metadata": {
  "language_info": {
   "name": "python"
  },
  "orig_nbformat": 4
 },
 "nbformat": 4,
 "nbformat_minor": 2
}
